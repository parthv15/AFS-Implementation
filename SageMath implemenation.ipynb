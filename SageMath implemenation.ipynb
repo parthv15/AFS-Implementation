{
 "cells": [
  {
   "cell_type": "code",
   "execution_count": 1,
   "metadata": {},
   "outputs": [
    {
     "name": "stdout",
     "output_type": "stream",
     "text": [
      "Requirement already satisfied: matplotlib in /opt/sagemath-9.2/local/lib/python3.7/site-packages (3.3.1)\n",
      "Requirement already satisfied: pillow>=6.2.0 in /opt/sagemath-9.2/local/lib/python3.7/site-packages (from matplotlib) (7.2.0)\n",
      "Requirement already satisfied: kiwisolver>=1.0.1 in /opt/sagemath-9.2/local/lib/python3.7/site-packages (from matplotlib) (1.0.1)\n",
      "Requirement already satisfied: cycler>=0.10 in /opt/sagemath-9.2/local/lib/python3.7/site-packages (from matplotlib) (0.10.0)\n",
      "Requirement already satisfied: numpy>=1.15 in /opt/sagemath-9.2/local/lib/python3.7/site-packages (from matplotlib) (1.19.1)\n",
      "Requirement already satisfied: certifi>=2020.06.20 in /opt/sagemath-9.2/local/lib/python3.7/site-packages (from matplotlib) (2020.6.20)\n",
      "Requirement already satisfied: pyparsing!=2.0.4,!=2.1.2,!=2.1.6,>=2.0.3 in /opt/sagemath-9.2/local/lib/python3.7/site-packages (from matplotlib) (2.3.0)\n",
      "Requirement already satisfied: python-dateutil>=2.1 in /opt/sagemath-9.2/local/lib/python3.7/site-packages (from matplotlib) (2.8.1)\n",
      "Requirement already satisfied: setuptools in /opt/sagemath-9.2/local/lib/python3.7/site-packages (from kiwisolver>=1.0.1->matplotlib) (49.6.0)\n",
      "Requirement already satisfied: six in /opt/sagemath-9.2/local/lib/python3.7/site-packages (from cycler>=0.10->matplotlib) (1.15.0)\n",
      "\u001b[33mWARNING: You are using pip version 20.2.3; however, version 21.3.1 is available.\n",
      "You should consider upgrading via the '/opt/sagemath-9.2/local/bin/python3 -m pip install --upgrade pip' command.\u001b[0m\n",
      "Note: you may need to restart the kernel to use updated packages.\n"
     ]
    }
   ],
   "source": [
    "pip install matplotlib\n"
   ]
  },
  {
   "cell_type": "code",
   "execution_count": null,
   "metadata": {},
   "outputs": [
    {
     "name": "stdout",
     "output_type": "stream",
     "text": [
      "Collecting pandas\n",
      "  Using cached pandas-1.3.4.tar.gz (4.7 MB)\n",
      "  Installing build dependencies ... \u001b[?25ldone\n",
      "\u001b[?25h  Getting requirements to build wheel ... \u001b[?25l-"
     ]
    }
   ],
   "source": [
    "pip install pandas"
   ]
  },
  {
   "cell_type": "code",
   "execution_count": 2,
   "metadata": {},
   "outputs": [
    {
     "ename": "ModuleNotFoundError",
     "evalue": "No module named 'pandas'",
     "output_type": "error",
     "traceback": [
      "\u001b[0;31m---------------------------------------------------------------------------\u001b[0m",
      "\u001b[0;31mModuleNotFoundError\u001b[0m                       Traceback (most recent call last)",
      "\u001b[0;32m<ipython-input-2-0f529e6987d8>\u001b[0m in \u001b[0;36m<module>\u001b[0;34m\u001b[0m\n\u001b[1;32m      1\u001b[0m \u001b[0;32mimport\u001b[0m \u001b[0mtime\u001b[0m\u001b[0;34m\u001b[0m\u001b[0;34m\u001b[0m\u001b[0m\n\u001b[0;32m----> 2\u001b[0;31m \u001b[0;32mimport\u001b[0m \u001b[0mpandas\u001b[0m \u001b[0;32mas\u001b[0m \u001b[0mpd\u001b[0m\u001b[0;34m\u001b[0m\u001b[0;34m\u001b[0m\u001b[0m\n\u001b[0m\u001b[1;32m      3\u001b[0m \u001b[0;32mimport\u001b[0m \u001b[0mmatplotlib\u001b[0m\u001b[0;34m.\u001b[0m\u001b[0mpyplot\u001b[0m \u001b[0;32mas\u001b[0m \u001b[0mplt\u001b[0m\u001b[0;34m\u001b[0m\u001b[0;34m\u001b[0m\u001b[0m\n\u001b[1;32m      4\u001b[0m \u001b[0;34m\u001b[0m\u001b[0m\n\u001b[1;32m      5\u001b[0m \u001b[0;32mdef\u001b[0m \u001b[0msolve\u001b[0m\u001b[0;34m(\u001b[0m\u001b[0;34m)\u001b[0m\u001b[0;34m:\u001b[0m\u001b[0;34m\u001b[0m\u001b[0;34m\u001b[0m\u001b[0m\n",
      "\u001b[0;31mModuleNotFoundError\u001b[0m: No module named 'pandas'"
     ]
    }
   ],
   "source": [
    "import time\n",
    "import pandas as pd\n",
    "import matplotlib.pyplot as plt\n",
    "\n",
    "def solve():\n",
    "    expr = [\"x+x+x+x\", \"3*x+a/a+b*x\",\"2*x*x*x/y*x/x+x*y\",\"2^x/2^2*x\",\"(2*(x^2)+5*x-3)/(6*(x^2)+18*x)\",\"3*x*a*b/a*c\",\n",
    "            \"(x^2+5*x-6)/(2-x)^2\", \"(sin(x))^2+(cos(x))^2\", \"(sin(x)+cos(x))/sin(x)\",\"(x^2+y^2)*x/(24*x+y)\",\n",
    "            \"((x-1)/(x-2))+((x+1)/(x+2))\", \"((x-1)/(x-2))-((x+1)/(x+2))\",\"((x-1)/(x-2))*((x+1)/(x+2))\",\n",
    "            \"((x-1)/(x-2))/((x+1)/(x+2))\",\"(3*(x^2)*sin(x)+x*sin(x))/(sin(x)*cos(x))\",\"(9/(3*(x^2)-3*y^2))+(x/(x*y-x^2))\",\n",
    "            \"(((x^2)+33*(x^2)+19*(x^2)+4*(x^2))*(4*(y^2)+3*(y^2)+2*y^2))/(3*(x^2)*(4*y^2)*(3*b^2)*(9*a^2)*(4*c^2)*(54*x^2))\",\n",
    "            \"(e^(x*x)-e^((-1)*x*x))/2*x\",\"(e^(x*x)+e^((-1)*x*x))/2*x\",\"sin(x)*sin(y)+cos(x)*cos(y)\",\n",
    "            \"(((3/(x-5))-(4/(x+5)))*(x+5)*(x-5))/(((7/((x+5)*(x-5))))*(x+5)*(x-5))\",\"(((sin((x^2)+y^2))*(x^2)*(y^2))/((cos((x^2))+y^2)/(cos(x^2+1))))\",\n",
    "            \"(((sin((x^2)+y^2))*(x^2)*(y^2))/((cos((x^2))+y^2)/(cos(x^2+1))))/((exp(x^2)*x*a*b*c*y))\",\n",
    "            \"(tan(x)/cos(x))/(sin(x)/cos(x))/cot(x) + (x^2)*sin(tan(x)/cos(x))\", \"3*x*x/x^2\",\"2*2/2*x\", \n",
    "            \"x*x\", \"exp(ln(x))\", \"2*2/2^18\",\"27/3^x\"]\n",
    "\n",
    "\n",
    "    runTime = [0]*len(expr)\n",
    "    len_expr = [0]*len(expr)\n",
    "\n",
    "    for i in range(0,len(expr)):\n",
    "        len_expr[i] = len(expr[i])\n",
    "        start = time.time()\n",
    "        expr_simplified = SR(expr[i]).full_simplify()\n",
    "        end = time.time()\n",
    "        runTime[i] = 1000*(end - start)\n",
    "    \n",
    "    return len_expr, runTime\n",
    "\n",
    "\n",
    "len_expr, runTime = solve()\n",
    "WrunTime = [4.44,4.81,4.45,3.56,4.99,4.34,4.77,4.64,5.01,3.91,4.71,4.83,4.58,5.13,4.53,7.12,5.25,4.44,4.06,5.95,5.46,6.55,6.03,3.03,3.92,4.36,3.47,4.34,3.78,4.81]\n",
    "print(len(WrunTime))\n",
    "\n",
    "\n",
    "plt.scatter(len_expr,runTime)\n",
    "plt.xlabel(\"Expression Length\")\n",
    "plt.ylabel(\"Run Time\")\n",
    "plt.title(\"SageMath Runtime Benchmark\")\n",
    "plt.show()\n",
    "\n",
    "plt.scatter(len_expr,WrunTime)\n",
    "plt.xlabel(\"Expression Length\")\n",
    "plt.ylabel(\"Run Time\")\n",
    "plt.title(\"WolFram Alpha Runtime Benchmark\")\n",
    "plt.ylim([0,60])\n",
    "plt.show()\n"
   ]
  },
  {
   "cell_type": "code",
   "execution_count": null,
   "metadata": {},
   "outputs": [],
   "source": []
  },
  {
   "cell_type": "code",
   "execution_count": null,
   "metadata": {},
   "outputs": [],
   "source": []
  }
 ],
 "metadata": {
  "kernelspec": {
   "display_name": "SageMath 9.2",
   "language": "sage",
   "name": "sagemath"
  }
 },
 "nbformat": 4,
 "nbformat_minor": 4
}
